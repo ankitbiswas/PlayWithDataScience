{
    "cells": [
        {
            "cell_type": "markdown",
            "metadata": {},
            "source": "### TITLE "
        },
        {
            "cell_type": "code",
            "execution_count": 1,
            "metadata": {},
            "outputs": [
                {
                    "data": {
                        "text/html": "<div>\n<style scoped>\n    .dataframe tbody tr th:only-of-type {\n        vertical-align: middle;\n    }\n\n    .dataframe tbody tr th {\n        vertical-align: top;\n    }\n\n    .dataframe thead th {\n        text-align: right;\n    }\n</style>\n<table border=\"1\" class=\"dataframe\">\n  <thead>\n    <tr style=\"text-align: right;\">\n      <th></th>\n      <th>rx_util_autoverify_orders_ops</th>\n      <th>https://jira2.cerner.com/browse/RXI-22279</th>\n      <th>We need to check if we want only the primary position from the prsnl table to be there in the privilege table or not</th>\n      <th>Closed</th>\n    </tr>\n  </thead>\n  <tbody>\n    <tr>\n      <th>0</th>\n      <td>rx_util_autoverify_orders</td>\n      <td>https://jira2.cerner.com/browse/RXI-22281</td>\n      <td>We need to check if we want only the primary p...</td>\n      <td>Closed</td>\n    </tr>\n    <tr>\n      <th>1</th>\n      <td>rx_get_unverified_orders_mm</td>\n      <td>https://jira2.cerner.com/browse/RXI-22725</td>\n      <td>Need no changes</td>\n      <td>Closed</td>\n    </tr>\n    <tr>\n      <th>2</th>\n      <td>pha_omf_imp_saved_views</td>\n      <td>https://jira2.cerner.com/browse/RXI-22278</td>\n      <td>Ignore this script</td>\n      <td>Closed</td>\n    </tr>\n    <tr>\n      <th>3</th>\n      <td>mp_ph_get_person_list</td>\n      <td>https://jira2.cerner.com/browse/RXI-22754</td>\n      <td>Changes may not be required . Used for old pco...</td>\n      <td>Closed</td>\n    </tr>\n    <tr>\n      <th>4</th>\n      <td>Pharmacy Med Request Service</td>\n      <td>https://jira2.cerner.com/browse/RXI-22791</td>\n      <td>Changes are required. Mentioned in the jira</td>\n      <td>Closed</td>\n    </tr>\n  </tbody>\n</table>\n</div>",
                        "text/plain": "  rx_util_autoverify_orders_ops  https://jira2.cerner.com/browse/RXI-22279  \\\n0    rx_util_autoverify_orders   https://jira2.cerner.com/browse/RXI-22281   \n1   rx_get_unverified_orders_mm  https://jira2.cerner.com/browse/RXI-22725   \n2       pha_omf_imp_saved_views  https://jira2.cerner.com/browse/RXI-22278   \n3         mp_ph_get_person_list  https://jira2.cerner.com/browse/RXI-22754   \n4  Pharmacy Med Request Service  https://jira2.cerner.com/browse/RXI-22791   \n\n  We need to check if we want only the primary position from the prsnl table to be there in the privilege table or not   \\\n0  We need to check if we want only the primary p...                                                                      \n1                                    Need no changes                                                                      \n2                                 Ignore this script                                                                      \n3  Changes may not be required . Used for old pco...                                                                      \n4        Changes are required. Mentioned in the jira                                                                      \n\n   Closed  \n0  Closed  \n1  Closed  \n2  Closed  \n3  Closed  \n4  Closed  "
                    },
                    "execution_count": 1,
                    "metadata": {},
                    "output_type": "execute_result"
                }
            ],
            "source": "# The code was removed by Watson Studio for sharing."
        },
        {
            "cell_type": "code",
            "execution_count": null,
            "metadata": {},
            "outputs": [],
            "source": ""
        }
    ],
    "metadata": {
        "kernelspec": {
            "display_name": "Python 3.6",
            "language": "python",
            "name": "python3"
        },
        "language_info": {
            "codemirror_mode": {
                "name": "ipython",
                "version": 3
            },
            "file_extension": ".py",
            "mimetype": "text/x-python",
            "name": "python",
            "nbconvert_exporter": "python",
            "pygments_lexer": "ipython3",
            "version": "3.6.9"
        }
    },
    "nbformat": 4,
    "nbformat_minor": 1
}